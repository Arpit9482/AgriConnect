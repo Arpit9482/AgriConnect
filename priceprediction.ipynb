{
  "nbformat": 4,
  "nbformat_minor": 0,
  "metadata": {
    "colab": {
      "provenance": [],
      "gpuType": "T4"
    },
    "kernelspec": {
      "name": "python3",
      "display_name": "Python 3"
    },
    "language_info": {
      "name": "python"
    },
    "accelerator": "GPU"
  },
  "cells": [
    {
      "cell_type": "code",
      "source": [
        "import pandas as pd\n",
        "from sklearn.model_selection import train_test_split\n",
        "from sklearn.linear_model import LinearRegression\n",
        "from sklearn.metrics import mean_squared_error, r2_score\n",
        "\n",
        "# Example dataset with features and total cost (target variable)\n",
        "data = {\n",
        "    'crop_type': ['Wheat', 'Rice', 'Maize', 'Soybean', 'Barley'],\n",
        "    'acreage': [10, 8, 12, 15, 7],  # Acres of land used for each crop\n",
        "    'seed_cost_per_acre': [100, 120, 90, 110, 95],  # Seed cost per acre\n",
        "    'fertilizer_cost_per_acre': [50, 60, 45, 55, 48],  # Fertilizer cost per acre\n",
        "    'labor_cost_per_acre': [80, 85, 75, 90, 82],  # Labor cost per acre\n",
        "    'total_cost': [2350, 1980, 2820, 3200, 1880]  # Total production cost for each crop\n",
        "}\n",
        "\n",
        "# Create DataFrame\n",
        "df = pd.DataFrame(data)\n",
        "\n",
        "# Separate features (X) and target variable (y)\n",
        "X = df[['acreage', 'seed_cost_per_acre', 'fertilizer_cost_per_acre', 'labor_cost_per_acre']]\n",
        "y = df['total_cost']\n",
        "\n",
        "# Split the data into training and testing sets\n",
        "X_train, X_test, y_train, y_test = train_test_split(X, y, test_size=0.2, random_state=42)\n",
        "\n",
        "# Initialize the linear regression model\n",
        "model = LinearRegression()\n",
        "\n",
        "# Train the model\n",
        "model.fit(X_train, y_train)\n",
        "\n",
        "# Make predictions on the test set\n",
        "y_pred = model.predict(X_test)\n",
        "\n",
        "# Evaluate the model\n",
        "mse = mean_squared_error(y_test, y_pred)\n",
        "r2 = r2_score(y_test, y_pred)\n",
        "\n",
        "print(\"Mean Squared Error:\", mse)\n",
        "print(\"R-squared:\", r2)\n",
        "\n",
        "# Predict total cost for a new crop\n",
        "new_crop_features = [[13, 105, 55, 83]]  # Example features for a new crop\n",
        "predicted_cost = model.predict(new_crop_features)\n",
        "print(\"Predicted Total Cost for New Crop:\", predicted_cost[0])\n"
      ],
      "metadata": {
        "colab": {
          "base_uri": "https://localhost:8080/"
        },
        "id": "gLgylyF52cAI",
        "outputId": "3978d24d-fc87-4da1-c7f5-e8c6a59ae049"
      },
      "execution_count": 1,
      "outputs": [
        {
          "output_type": "stream",
          "name": "stdout",
          "text": [
            "Mean Squared Error: 58175.554120154666\n",
            "R-squared: nan\n",
            "Predicted Total Cost for New Crop: 2821.383803909401\n"
          ]
        },
        {
          "output_type": "stream",
          "name": "stderr",
          "text": [
            "/usr/local/lib/python3.10/dist-packages/sklearn/metrics/_regression.py:918: UndefinedMetricWarning: R^2 score is not well-defined with less than two samples.\n",
            "  warnings.warn(msg, UndefinedMetricWarning)\n",
            "/usr/local/lib/python3.10/dist-packages/sklearn/base.py:439: UserWarning: X does not have valid feature names, but LinearRegression was fitted with feature names\n",
            "  warnings.warn(\n"
          ]
        }
      ]
    },
    {
      "cell_type": "code",
      "source": [],
      "metadata": {
        "id": "bU3MELXL9K8O"
      },
      "execution_count": null,
      "outputs": []
    }
  ]
}